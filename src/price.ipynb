{
 "cells": [
  {
   "cell_type": "code",
   "execution_count": 19,
   "metadata": {},
   "outputs": [],
   "source": [
    "url = 'https://query1.finance.yahoo.com/v7/finance/download/0752.HK?period1=1690266221&period2=1721888621&interval=3mo&events=history&includeAdjustedClose=false'"
   ]
  },
  {
   "cell_type": "code",
   "execution_count": 25,
   "metadata": {},
   "outputs": [
    {
     "name": "stdout",
     "output_type": "stream",
     "text": [
      "Request successful\n"
     ]
    }
   ],
   "source": [
    "import requests\n",
    "\n",
    "url = \"https://finance.yahoo.com/quote/0752.HK/history/?p=0752.HK\"\n",
    "\n",
    "headers = {\n",
    "    \"authority\": \"finance.yahoo.com\",\n",
    "    \"accept\": \"text/html,application/xhtml+xml,application/xml;q=0.9,image/avif,image/webp,image/apng,*/*;q=0.8,application/signed-exchange;v=b3;q=0.7\",\n",
    "    \"accept-encoding\": \"gzip, deflate, br, zstd\",\n",
    "    \"accept-language\": \"en-US,en;q=0.9\",\n",
    "    \"cache-control\": \"no-cache\",\n",
    "    \"cookie\": \"A1=d=AQABBMrzoWYCEB8cL1G6NB4yqKCevlGUIdwFEgEBAQFFo2arZlib8HgB_eMAAA&S=AQAAAkerg7Emg2zG3GrU9KaLO_M; A3=d=AQABBMrzoWYCEB8cL1G6NB4yqKCevlGUIdwFEgEBAQFFo2arZlib8HgB_eMAAA&S=AQAAAkerg7Emg2zG3GrU9KaLO_M; A1S=d=AQABBMrzoWYCEB8cL1G6NB4yqKCevlGUIdwFEgEBAQFFo2arZlib8HgB_eMAAA&S=AQAAAkerg7Emg2zG3GrU9KaLO_M; PRF=t%3D0752.HK\",\n",
    "    \"pragma\": \"no-cache\",\n",
    "    \"sec-ch-ua\": '\"Not/A)Brand\";v=\"8\", \"Chromium\";v=\"126\", \"Microsoft Edge\";v=\"126\"',\n",
    "    \"sec-ch-ua-mobile\": \"?0\",\n",
    "    \"sec-ch-ua-platform\": '\"Windows\"',\n",
    "    \"sec-fetch-dest\": \"document\",\n",
    "    \"sec-fetch-mode\": \"navigate\",\n",
    "    \"sec-fetch-site\": \"same-origin\",\n",
    "    \"sec-fetch-user\": \"?1\",\n",
    "    \"upgrade-insecure-requests\": \"1\",\n",
    "    \"user-agent\": \"Mozilla/5.0 (Windows NT 10.0; Win64; x64) AppleWebKit/537.36 (KHTML, like Gecko) Chrome/126.0.0.0 Safari/537.36 Edg/126.0.0.0\"\n",
    "}\n",
    "\n",
    "session = requests.Session()\n",
    "response = session.get(url, headers=headers)\n",
    "\n",
    "\n",
    "# Check if the request was successful\n",
    "if response.status_code == 200:\n",
    "    print(\"Request successful\")\n",
    "    # Process the response content here\n",
    "else:\n",
    "    print(f\"Request failed with status code: {response.status_code}\")"
   ]
  },
  {
   "cell_type": "code",
   "execution_count": 53,
   "metadata": {},
   "outputs": [
    {
     "name": "stdout",
     "output_type": "stream",
     "text": [
      "Request successful\n",
      "b'Date,Open,High,Low,Close,Adj Close,Volume\\n2024-04-25,1.610000,1.620000,1.610000,1.620000,1.570223,20000\\n2024-04-26,1.610000,1.640000,1.590000,1.610000,1.560531,616000\\n2024-04-29,1.590000,1.630000,1.590000,1.620000,1.570223,631100\\n2024-04-30,1.600000,1.630000,1.600000,1.630000,1.579916,24000\\n2024-05-02,1.600000,1.640000,1.600000,1.640000,1.589609,140000\\n2024-05-03,1.650000,1.650000,1.630000,1.630000,1.579916,136000\\n2024-05-06,1.630000,1.660000,1.630000,1.650000,1.599302,272000\\n2024-05-07,1.640000,1.660000,1.640000,1.640000,1.589609,146000\\n2024-05-08,1.660000,1.670000,1.640000,1.650000,1.599302,652000\\n2024-05-09,1.650000,1.690000,1.650000,1.680000,1.628380,214000\\n2024-05-10,1.680000,1.720000,1.680000,1.710000,1.657458,358000\\n2024-05-13,1.720000,1.730000,1.710000,1.720000,1.667151,378000\\n2024-05-14,1.720000,1.740000,1.710000,1.730000,1.676844,93000\\n2024-05-16,1.730000,1.730000,1.680000,1.700000,1.647765,558000\\n2024-05-17,1.700000,1.720000,1.690000,1.700000,1.647765,324000\\n2024-05-20,1.690000,1.700000,1.680000,1.690000,1.638073,220000\\n2024-05-21,1.670000,1.680000,1.650000,1.650000,1.599302,756000\\n2024-05-22,1.650000,1.670000,1.650000,1.670000,1.618687,96000\\n2024-05-23,1.670000,1.690000,1.660000,1.690000,1.638073,446000\\n2024-05-24,1.690000,1.710000,1.670000,1.710000,1.657458,306000\\n2024-05-27,1.690000,1.710000,1.690000,1.700000,1.647765,188000\\n2024-05-28,1.700000,1.700000,1.670000,1.680000,1.628380,618000\\n2024-05-29,1.670000,1.690000,1.660000,1.670000,1.618687,64000\\n2024-05-30,1.660000,1.690000,1.640000,1.660000,1.608994,672423\\n2024-05-31,1.650000,1.690000,1.650000,1.690000,1.638073,296000\\n2024-06-03,1.670000,1.720000,1.670000,1.700000,1.647765,614000\\n2024-06-04,1.700000,1.750000,1.690000,1.730000,1.676844,2212000\\n2024-06-05,1.720000,1.730000,1.680000,1.690000,1.638073,722000\\n2024-06-06,1.690000,1.690000,1.660000,1.690000,1.638073,202000\\n2024-06-07,1.670000,1.700000,1.670000,1.700000,1.647765,646000\\n2024-06-11,1.700000,1.710000,1.680000,1.700000,1.647765,200000\\n2024-06-12,1.690000,1.700000,1.660000,1.680000,1.628380,250000\\n2024-06-13,1.670000,1.680000,1.660000,1.680000,1.628380,406232\\n2024-06-14,1.660000,1.680000,1.650000,1.670000,1.618687,374000\\n2024-06-17,1.660000,1.690000,1.660000,1.690000,1.638073,184000\\n2024-06-18,1.750000,1.750000,1.660000,1.690000,1.638073,1356000\\n2024-06-19,1.680000,1.690000,1.680000,1.680000,1.628380,9102756\\n2024-06-20,1.680000,1.680000,1.670000,1.670000,1.618687,516000\\n2024-06-21,1.680000,1.690000,1.670000,1.670000,1.618687,336000\\n2024-06-24,1.680000,1.720000,1.670000,1.690000,1.638073,860000\\n2024-06-25,1.690000,1.710000,1.690000,1.700000,1.647765,108000\\n2024-06-26,1.700000,1.720000,1.700000,1.700000,1.647765,422000\\n2024-06-27,1.690000,1.700000,1.650000,1.680000,1.628380,4960000\\n2024-06-28,1.680000,1.840000,1.680000,1.820000,1.764078,2632000\\n2024-07-02,1.820000,1.880000,1.800000,1.810000,1.754385,976000\\n2024-07-03,1.820000,1.870000,1.820000,1.860000,1.802849,792000\\n2024-07-04,1.870000,1.900000,1.860000,1.890000,1.831927,498000\\n2024-07-05,null,null,null,null,null,null\\n2024-07-08,1.840000,1.850000,1.830000,1.840000,1.783464,198000\\n2024-07-09,1.830000,1.830000,1.760000,1.800000,1.744693,712000\\n2024-07-10,1.780000,1.810000,1.780000,1.800000,1.744693,138000\\n2024-07-11,1.790000,1.790000,1.770000,1.790000,1.735000,208000\\n2024-07-12,1.740000,1.750000,1.730000,1.750000,1.750000,160000\\n2024-07-15,1.740000,1.820000,1.740000,1.810000,1.810000,448000\\n2024-07-16,1.810000,1.810000,1.810000,1.810000,1.810000,2000\\n2024-07-17,1.800000,1.800000,1.770000,1.790000,1.790000,98000\\n2024-07-18,1.780000,1.800000,1.770000,1.790000,1.790000,704000\\n2024-07-19,1.760000,1.800000,1.760000,1.790000,1.790000,496000\\n2024-07-22,1.770000,1.790000,1.760000,1.760000,1.760000,270000\\n2024-07-23,1.760000,1.780000,1.760000,1.770000,1.770000,114000\\n2024-07-24,1.760000,1.760000,1.700000,1.700000,1.700000,526000\\n2024-07-25,1.700000,1.710000,1.700000,1.700000,1.700000,176000'\n"
     ]
    }
   ],
   "source": [
    "import requests\n",
    "\n",
    "url = \"https://query1.finance.yahoo.com/v7/finance/download/0752.HK?period1=1714026926&period2=1721889195&interval=1d&events=history&includeAdjustedClose=true\"\n",
    "\n",
    "headers = {\n",
    "    # \"authority\": \"query1.finance.yahoo.com\",\n",
    "    # \"accept\": \"text/html,application/xhtml+xml,application/xml;q=0.9,image/avif,image/webp,image/apng,*/*;q=0.8,application/signed-exchange;v=b3;q=0.7\",\n",
    "    # \"accept-encoding\": \"gzip, deflate, br, zstd\",\n",
    "    # \"accept-language\": \"en-US,en;q=0.9\",\n",
    "    # \"cookie\": \"A1=d=AQABBETvoWYCEBhB3YiDCWVytNnUkOHvA-wFEgEBAQFAo2arZlib8HgB_eMAAA&S=AQAAAuiziZmyQ8bflimM-HjXqlo; A3=d=AQABBETvoWYCEBhB3YiDCWVytNnUkOHvA-wFEgEBAQFAo2arZlib8HgB_eMAAA&S=AQAAAuiziZmyQ8bflimM-HjXqlo; A1S=d=AQABBETvoWYCEBhB3YiDCWVytNnUkOHvA-wFEgEBAQFAo2arZlib8HgB_eMAAA&S=AQAAAuiziZmyQ8bflimM-HjXqlo; PRF=t%3D0752.HK\",\n",
    "    # \"referer\": \"https://finance.yahoo.com/quote/0752.HK/history/?period1=1714026926&period2=1721889195\",\n",
    "    # \"sec-ch-ua\": '\"Not/A)Brand\";v=\"8\", \"Chromium\";v=\"126\", \"Microsoft Edge\";v=\"126\"',\n",
    "    # \"sec-ch-ua-mobile\": \"?0\",\n",
    "    # \"sec-ch-ua-platform\": '\"Windows\"',\n",
    "    # \"sec-fetch-dest\": \"document\",\n",
    "    # \"sec-fetch-mode\": \"navigate\",\n",
    "    # \"sec-fetch-site\": \"same-site\",\n",
    "    # \"sec-fetch-user\": \"?1\",\n",
    "    # \"upgrade-insecure-requests\": \"1\",\n",
    "    \"user-agent\": \"Mozilla/5.0 (Windows NT 10.0; Win64; x64) AppleWebKit/537.36 (KHTML, like Gecko) Chrome/126.0.0.0 Safari/537.36 Edg/126.0.0.0\"\n",
    "}\n",
    "\n",
    "session = requests.Session()\n",
    "response = session.get(url, headers=headers)\n",
    "session.close()\n",
    "\n",
    "# Check if the request was successful\n",
    "if response.status_code == 200:\n",
    "    print(\"Request successful\")\n",
    "    # Process the response content here\n",
    "    print(response.content)\n",
    "else:\n",
    "    print(f\"Request failed with status code: {response.status_code}\")\n",
    "    print(response.content)"
   ]
  },
  {
   "cell_type": "code",
   "execution_count": 42,
   "metadata": {},
   "outputs": [],
   "source": [
    "import pandas as pd \n",
    "df = pd.DataFrame([row.split(',') for row in response.text.split('\\n')])\n",
    "df.to_csv('0752-HK.csv', index=False, header=False)"
   ]
  },
  {
   "cell_type": "code",
   "execution_count": 14,
   "metadata": {},
   "outputs": [],
   "source": [
    "ticker = \"0752.HK\"\n",
    "stock = yf.Ticker(ticker)\n",
    "hist = stock.history(period=\"1mo\")"
   ]
  },
  {
   "cell_type": "code",
   "execution_count": 54,
   "metadata": {},
   "outputs": [
    {
     "name": "stdout",
     "output_type": "stream",
     "text": [
      "Period 1: 2024-04-25 14:35:26\n",
      "Period 2: 2024-07-25 14:33:15\n"
     ]
    }
   ],
   "source": [
    "import datetime\n",
    "\n",
    "# Given Unix timestamps\n",
    "period1 = 1714026926\n",
    "period2 = 1721889195\n",
    "\n",
    "# Convert Unix timestamps to datetime objects\n",
    "datetime1 = datetime.datetime.fromtimestamp(period1)\n",
    "datetime2 = datetime.datetime.fromtimestamp(period2)\n",
    "\n",
    "# Print the human-readable format\n",
    "print(f\"Period 1: {datetime1}\")\n",
    "print(f\"Period 2: {datetime2}\")"
   ]
  },
  {
   "cell_type": "code",
   "execution_count": 56,
   "metadata": {},
   "outputs": [
    {
     "data": {
      "text/plain": [
       "1714026926.0"
      ]
     },
     "execution_count": 56,
     "metadata": {},
     "output_type": "execute_result"
    }
   ],
   "source": [
    "datetime.datetime(\n",
    "    year=  2024,\n",
    "    month=  4, \n",
    "    day=    25,\n",
    "    hour=   14,\n",
    "    minute= 35,\n",
    "    second= 26\n",
    ").timestamp()"
   ]
  },
  {
   "cell_type": "code",
   "execution_count": 59,
   "metadata": {},
   "outputs": [
    {
     "name": "stdout",
     "output_type": "stream",
     "text": [
      "1721891904\n"
     ]
    },
    {
     "data": {
      "text/plain": [
       "1721891904.432644"
      ]
     },
     "execution_count": 59,
     "metadata": {},
     "output_type": "execute_result"
    }
   ],
   "source": [
    "print(int(datetime.datetime.now().timestamp()))\n",
    "datetime.datetime.now().timestamp()"
   ]
  },
  {
   "cell_type": "code",
   "execution_count": null,
   "metadata": {},
   "outputs": [],
   "source": []
  }
 ],
 "metadata": {
  "kernelspec": {
   "display_name": "venv",
   "language": "python",
   "name": "python3"
  },
  "language_info": {
   "codemirror_mode": {
    "name": "ipython",
    "version": 3
   },
   "file_extension": ".py",
   "mimetype": "text/x-python",
   "name": "python",
   "nbconvert_exporter": "python",
   "pygments_lexer": "ipython3",
   "version": "3.12.4"
  }
 },
 "nbformat": 4,
 "nbformat_minor": 2
}
